{
 "cells": [
  {
   "cell_type": "code",
   "execution_count": 44,
   "id": "3fb5ec1d",
   "metadata": {},
   "outputs": [],
   "source": [
    "# Import Splinter and BeautifulSoup\n",
    "from splinter import Browser\n",
    "from bs4 import BeautifulSoup as soup\n",
    "from webdriver_manager.chrome import ChromeDriverManager\n",
    "\n",
    "# Set up Splinter\n",
    "executable_path = {'executable_path': ChromeDriverManager().install()}\n",
    "browser = Browser('chrome', **executable_path, headless=False)"
   ]
  },
  {
   "cell_type": "code",
   "execution_count": 45,
   "id": "e99dc96c",
   "metadata": {},
   "outputs": [
    {
     "data": {
      "text/plain": [
       "True"
      ]
     },
     "execution_count": 45,
     "metadata": {},
     "output_type": "execute_result"
    }
   ],
   "source": [
    "# Visit the Mars NASA news site\n",
    "url = 'https://redplanetscience.com'\n",
    "browser.visit(url)\n",
    "# Optional delay for loading the page\n",
    "browser.is_element_present_by_css('div.list_text', wait_time=1)"
   ]
  },
  {
   "cell_type": "code",
   "execution_count": 48,
   "id": "6911cdf3",
   "metadata": {},
   "outputs": [
    {
     "data": {
      "text/plain": [
       "<div class=\"list_text\">\n",
       "<div class=\"list_date\">November 5, 2022</div>\n",
       "<div class=\"content_title\">NASA's Perseverance Rover Attached to Atlas V Rocket</div>\n",
       "<div class=\"article_teaser_body\">Ready for its launch later in the month, the Mars-bound rover will touch terra firma no more.</div>\n",
       "</div>"
      ]
     },
     "execution_count": 48,
     "metadata": {},
     "output_type": "execute_result"
    }
   ],
   "source": [
    "# Parse the HTML\n",
    "html = browser.html\n",
    "news_soup = soup(html, 'html.parser')\n",
    "slide_elem = news_soup.select_one('div.list_text')\n",
    "slide_elem"
   ]
  },
  {
   "cell_type": "code",
   "execution_count": 64,
   "id": "1b218a90",
   "metadata": {},
   "outputs": [],
   "source": [
    "# Parse the HTML\n",
    "html = browser.html\n",
    "news_soup = soup(html, 'html.parser')\n",
    "slide_elem = news_soup.find_all('div', class_='list_text')"
   ]
  },
  {
   "cell_type": "code",
   "execution_count": 92,
   "id": "ea03b48f",
   "metadata": {},
   "outputs": [],
   "source": [
    "title_list = []\n",
    "news_p_list = []\n",
    "dict = {'title': [], 'preview': []}\n",
    "for slide in slide_elem:\n",
    "    #Iterate through slide_elem list to get title element and title texts\n",
    "    title_elem = slide.find('div', class_='content_title')\n",
    "    title = title_elem.get_text()\n",
    "    title_list.append(title)\n",
    "    #Store title in a dictionary\n",
    "    dict['title'].append(title)\n",
    "    #Iterate through slide_elem list to find the summary text\n",
    "    news_p = slide.find('div', class_='article_teaser_body').text\n",
    "    news_p_list.append(news_p)\n",
    "    #Store preview in a dictionary\n",
    "    dict['preview'].append(news_p)"
   ]
  },
  {
   "cell_type": "code",
   "execution_count": 93,
   "id": "c555637e",
   "metadata": {},
   "outputs": [
    {
     "data": {
      "text/plain": [
       "{'title': [\"NASA's Perseverance Rover Attached to Atlas V Rocket\",\n",
       "  'NASA, ULA Launch Mars 2020 Perseverance Rover Mission to Red Planet',\n",
       "  \"Three New Views of Mars' Moon Phobos\",\n",
       "  \"InSight's 'Mole' Team Peers into the Pit\",\n",
       "  \"5 Hidden Gems Are Riding Aboard NASA's Perseverance Rover\",\n",
       "  \"While Stargazing on Mars, NASA's Curiosity Rover Spots Earth and Venus\",\n",
       "  'The Man Who Wanted to Fly on Mars',\n",
       "  \"All About the Laser (and Microphone) Atop Mars 2020, NASA's Next Rover\",\n",
       "  \"A Martian Roundtrip: NASA's Perseverance Rover Sample Tubes\",\n",
       "  \"NASA's Mars 2020 Rover Completes Its First Drive\",\n",
       "  \"NASA's Perseverance Rover Will Carry First Spacesuit Materials to Mars\",\n",
       "  'NASA Moves Forward With Campaign to Return Mars Samples to Earth',\n",
       "  'Mars 2020 Stands on Its Own Six Wheels',\n",
       "  \"NASA's Perseverance Mars Rover Gets Balanced\",\n",
       "  'With Mars Methane Mystery Unsolved, Curiosity Serves Scientists a New One: Oxygen'],\n",
       " 'preview': ['Ready for its launch later in the month, the Mars-bound rover will touch terra firma no more.',\n",
       "  \"The agency's Mars 2020 mission is on its way. It will land at Jezero Crater in about seven months, on Feb. 18, 2021. \",\n",
       "  \"Taken with the infrared camera aboard NASA's Odyssey orbiter, they reveal temperature variations on the small moon as it drifts into and out of Mars’ shadow.\",\n",
       "  'Efforts to save the heat probe continue.',\n",
       "  \"The symbols, mottos, and small objects added to the agency's newest Mars rover serve a variety of purposes, from functional to decorative.\",\n",
       "  \"This new portrait of the Red Planet's neighbors was taken during a time when there's more dust in the air on Mars.\",\n",
       "  \"The Mars Helicopter is riding to the Red Planet this summer with NASA's Perseverance rover. The helicopter's chief engineer, Bob Balaram, shares the saga of how it came into being.\",\n",
       "  'SuperCam is a rock-vaporizing instrument that will help scientists hunt for Mars fossils.',\n",
       "  \"Marvels of engineering, the rover's sample tubes must be tough enough to safely bring Red Planet samples on the long journey back to Earth in immaculate condition. \",\n",
       "  'In a 10-plus-hour marathon, the rover steered, turned and drove in 3-foot (1-meter) increments over small ramps.',\n",
       "  'In a Q&A, spacesuit designer Amy Ross explains how five samples, including a piece of helmet visor, will be tested aboard the rover, which is targeting a July 30 launch. ',\n",
       "  'During this next phase, the program will mature critical technologies and make critical design decisions as well as assess industry partnerships.',\n",
       "  \"In time-lapse video, taken at JPL, captures the first time NASA's Mars 2020 rover carries its full weight on its legs and wheels.\",\n",
       "  \"The mission team performed a crucial weight-balancing test on the rover in preparation for this summer's history-making launch to the Red Planet.\",\n",
       "  'For the first time in the history of space exploration, scientists have measured the seasonal changes in the gases that fill the air directly above the surface of Gale Crater on Mars. ']}"
      ]
     },
     "execution_count": 93,
     "metadata": {},
     "output_type": "execute_result"
    }
   ],
   "source": [
    "dict"
   ]
  },
  {
   "cell_type": "code",
   "execution_count": null,
   "id": "0a338a4a",
   "metadata": {},
   "outputs": [],
   "source": []
  }
 ],
 "metadata": {
  "kernelspec": {
   "display_name": "PythonData",
   "language": "python",
   "name": "pythondata"
  },
  "language_info": {
   "codemirror_mode": {
    "name": "ipython",
    "version": 3
   },
   "file_extension": ".py",
   "mimetype": "text/x-python",
   "name": "python",
   "nbconvert_exporter": "python",
   "pygments_lexer": "ipython3",
   "version": "3.7.13"
  }
 },
 "nbformat": 4,
 "nbformat_minor": 5
}
