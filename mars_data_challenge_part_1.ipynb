{
 "cells": [
  {
   "cell_type": "code",
   "execution_count": 77,
   "id": "3fb5ec1d",
   "metadata": {},
   "outputs": [],
   "source": [
    "#import pandas\n",
    "import pandas as pd\n",
    "# Import Splinter and BeautifulSoup\n",
    "from splinter import Browser\n",
    "from bs4 import BeautifulSoup as soup\n",
    "from webdriver_manager.chrome import ChromeDriverManager\n",
    "\n",
    "# Set up Splinter\n",
    "executable_path = {'executable_path': ChromeDriverManager().install()}\n",
    "browser = Browser('chrome', **executable_path, headless=False)"
   ]
  },
  {
   "cell_type": "code",
   "execution_count": 78,
   "id": "e99dc96c",
   "metadata": {},
   "outputs": [
    {
     "data": {
      "text/plain": [
       "True"
      ]
     },
     "execution_count": 78,
     "metadata": {},
     "output_type": "execute_result"
    }
   ],
   "source": [
    "# Visit the Mars NASA news site\n",
    "url = 'https://redplanetscience.com'\n",
    "browser.visit(url)\n",
    "# Optional delay for loading the page\n",
    "browser.is_element_present_by_css('div.list_text', wait_time=1)"
   ]
  },
  {
   "cell_type": "code",
   "execution_count": 79,
   "id": "1b218a90",
   "metadata": {},
   "outputs": [],
   "source": [
    "# Parse the HTML\n",
    "html = browser.html\n",
    "news_soup = soup(html, 'html.parser')\n",
    "slide_elem = news_soup.find_all('div', class_='list_text')"
   ]
  },
  {
   "cell_type": "code",
   "execution_count": 80,
   "id": "ea03b48f",
   "metadata": {},
   "outputs": [
    {
     "name": "stdout",
     "output_type": "stream",
     "text": [
      "{'title': ['Sensors on Mars 2020 Spacecraft Answer Long-Distance Call From Earth'], 'preview': [\"Instruments tailored to collect data during the descent of NASA's next rover through the Red Planet's atmosphere have been checked in flight.\"]}\n",
      "{'title': ['Sensors on Mars 2020 Spacecraft Answer Long-Distance Call From Earth', 'MAVEN Maps Electric Currents around Mars that are Fundamental to Atmospheric Loss'], 'preview': [\"Instruments tailored to collect data during the descent of NASA's next rover through the Red Planet's atmosphere have been checked in flight.\", 'Five years after NASA’s MAVEN spacecraft entered into orbit around Mars, data from the mission has led to the creation of a map of electric current systems in the Martian atmosphere.']}\n",
      "{'title': ['Sensors on Mars 2020 Spacecraft Answer Long-Distance Call From Earth', 'MAVEN Maps Electric Currents around Mars that are Fundamental to Atmospheric Loss', \"NASA's Push to Save the Mars InSight Lander's Heat Probe\"], 'preview': [\"Instruments tailored to collect data during the descent of NASA's next rover through the Red Planet's atmosphere have been checked in flight.\", 'Five years after NASA’s MAVEN spacecraft entered into orbit around Mars, data from the mission has led to the creation of a map of electric current systems in the Martian atmosphere.', \"The scoop on the end of the spacecraft's robotic arm will be used to 'pin' the mole against the wall of its hole.\"]}\n",
      "{'title': ['Sensors on Mars 2020 Spacecraft Answer Long-Distance Call From Earth', 'MAVEN Maps Electric Currents around Mars that are Fundamental to Atmospheric Loss', \"NASA's Push to Save the Mars InSight Lander's Heat Probe\", \"NASA's Perseverance Rover 100 Days Out\"], 'preview': [\"Instruments tailored to collect data during the descent of NASA's next rover through the Red Planet's atmosphere have been checked in flight.\", 'Five years after NASA’s MAVEN spacecraft entered into orbit around Mars, data from the mission has led to the creation of a map of electric current systems in the Martian atmosphere.', \"The scoop on the end of the spacecraft's robotic arm will be used to 'pin' the mole against the wall of its hole.\", \"Mark your calendars: The agency's latest rover has only about 8,640,000 seconds to go before it touches down on the Red Planet, becoming history's next Mars car.\"]}\n",
      "{'title': ['Sensors on Mars 2020 Spacecraft Answer Long-Distance Call From Earth', 'MAVEN Maps Electric Currents around Mars that are Fundamental to Atmospheric Loss', \"NASA's Push to Save the Mars InSight Lander's Heat Probe\", \"NASA's Perseverance Rover 100 Days Out\", \"NASA's Ingenuity Mars Helicopter Recharges Its Batteries in Flight\"], 'preview': [\"Instruments tailored to collect data during the descent of NASA's next rover through the Red Planet's atmosphere have been checked in flight.\", 'Five years after NASA’s MAVEN spacecraft entered into orbit around Mars, data from the mission has led to the creation of a map of electric current systems in the Martian atmosphere.', \"The scoop on the end of the spacecraft's robotic arm will be used to 'pin' the mole against the wall of its hole.\", \"Mark your calendars: The agency's latest rover has only about 8,640,000 seconds to go before it touches down on the Red Planet, becoming history's next Mars car.\", 'Headed to the Red Planet with the Perseverance rover, the pioneering helicopter is powered up for the first time in interplanetary space as part of a systems check.']}\n",
      "{'title': ['Sensors on Mars 2020 Spacecraft Answer Long-Distance Call From Earth', 'MAVEN Maps Electric Currents around Mars that are Fundamental to Atmospheric Loss', \"NASA's Push to Save the Mars InSight Lander's Heat Probe\", \"NASA's Perseverance Rover 100 Days Out\", \"NASA's Ingenuity Mars Helicopter Recharges Its Batteries in Flight\", \"NASA's Mars 2020 Rover Closer to Getting Its Name\"], 'preview': [\"Instruments tailored to collect data during the descent of NASA's next rover through the Red Planet's atmosphere have been checked in flight.\", 'Five years after NASA’s MAVEN spacecraft entered into orbit around Mars, data from the mission has led to the creation of a map of electric current systems in the Martian atmosphere.', \"The scoop on the end of the spacecraft's robotic arm will be used to 'pin' the mole against the wall of its hole.\", \"Mark your calendars: The agency's latest rover has only about 8,640,000 seconds to go before it touches down on the Red Planet, becoming history's next Mars car.\", 'Headed to the Red Planet with the Perseverance rover, the pioneering helicopter is powered up for the first time in interplanetary space as part of a systems check.', \"155 students from across the U.S. have been chosen as semifinalists in NASA's essay contest to name the Mars 2020 rover, and see it launch from Cape Canaveral this July.\"]}\n",
      "{'title': ['Sensors on Mars 2020 Spacecraft Answer Long-Distance Call From Earth', 'MAVEN Maps Electric Currents around Mars that are Fundamental to Atmospheric Loss', \"NASA's Push to Save the Mars InSight Lander's Heat Probe\", \"NASA's Perseverance Rover 100 Days Out\", \"NASA's Ingenuity Mars Helicopter Recharges Its Batteries in Flight\", \"NASA's Mars 2020 Rover Closer to Getting Its Name\", \"NASA Wins 4 Webbys, 4 People's Voice Awards\"], 'preview': [\"Instruments tailored to collect data during the descent of NASA's next rover through the Red Planet's atmosphere have been checked in flight.\", 'Five years after NASA’s MAVEN spacecraft entered into orbit around Mars, data from the mission has led to the creation of a map of electric current systems in the Martian atmosphere.', \"The scoop on the end of the spacecraft's robotic arm will be used to 'pin' the mole against the wall of its hole.\", \"Mark your calendars: The agency's latest rover has only about 8,640,000 seconds to go before it touches down on the Red Planet, becoming history's next Mars car.\", 'Headed to the Red Planet with the Perseverance rover, the pioneering helicopter is powered up for the first time in interplanetary space as part of a systems check.', \"155 students from across the U.S. have been chosen as semifinalists in NASA's essay contest to name the Mars 2020 rover, and see it launch from Cape Canaveral this July.\", 'Winners include the JPL-managed \"Send Your Name to Mars\" campaign, NASA\\'s Global Climate Change website and Solar System Interactive.']}\n",
      "{'title': ['Sensors on Mars 2020 Spacecraft Answer Long-Distance Call From Earth', 'MAVEN Maps Electric Currents around Mars that are Fundamental to Atmospheric Loss', \"NASA's Push to Save the Mars InSight Lander's Heat Probe\", \"NASA's Perseverance Rover 100 Days Out\", \"NASA's Ingenuity Mars Helicopter Recharges Its Batteries in Flight\", \"NASA's Mars 2020 Rover Closer to Getting Its Name\", \"NASA Wins 4 Webbys, 4 People's Voice Awards\", \"NASA's New Mars Rover Will Use X-Rays to Hunt Fossils\"], 'preview': [\"Instruments tailored to collect data during the descent of NASA's next rover through the Red Planet's atmosphere have been checked in flight.\", 'Five years after NASA’s MAVEN spacecraft entered into orbit around Mars, data from the mission has led to the creation of a map of electric current systems in the Martian atmosphere.', \"The scoop on the end of the spacecraft's robotic arm will be used to 'pin' the mole against the wall of its hole.\", \"Mark your calendars: The agency's latest rover has only about 8,640,000 seconds to go before it touches down on the Red Planet, becoming history's next Mars car.\", 'Headed to the Red Planet with the Perseverance rover, the pioneering helicopter is powered up for the first time in interplanetary space as part of a systems check.', \"155 students from across the U.S. have been chosen as semifinalists in NASA's essay contest to name the Mars 2020 rover, and see it launch from Cape Canaveral this July.\", 'Winners include the JPL-managed \"Send Your Name to Mars\" campaign, NASA\\'s Global Climate Change website and Solar System Interactive.', \"PIXL, an instrument on the end of the Perseverance rover's arm, will search for chemical fingerprints left by ancient microbes.\"]}\n",
      "{'title': ['Sensors on Mars 2020 Spacecraft Answer Long-Distance Call From Earth', 'MAVEN Maps Electric Currents around Mars that are Fundamental to Atmospheric Loss', \"NASA's Push to Save the Mars InSight Lander's Heat Probe\", \"NASA's Perseverance Rover 100 Days Out\", \"NASA's Ingenuity Mars Helicopter Recharges Its Batteries in Flight\", \"NASA's Mars 2020 Rover Closer to Getting Its Name\", \"NASA Wins 4 Webbys, 4 People's Voice Awards\", \"NASA's New Mars Rover Will Use X-Rays to Hunt Fossils\", \"5 Hidden Gems Are Riding Aboard NASA's Perseverance Rover\"], 'preview': [\"Instruments tailored to collect data during the descent of NASA's next rover through the Red Planet's atmosphere have been checked in flight.\", 'Five years after NASA’s MAVEN spacecraft entered into orbit around Mars, data from the mission has led to the creation of a map of electric current systems in the Martian atmosphere.', \"The scoop on the end of the spacecraft's robotic arm will be used to 'pin' the mole against the wall of its hole.\", \"Mark your calendars: The agency's latest rover has only about 8,640,000 seconds to go before it touches down on the Red Planet, becoming history's next Mars car.\", 'Headed to the Red Planet with the Perseverance rover, the pioneering helicopter is powered up for the first time in interplanetary space as part of a systems check.', \"155 students from across the U.S. have been chosen as semifinalists in NASA's essay contest to name the Mars 2020 rover, and see it launch from Cape Canaveral this July.\", 'Winners include the JPL-managed \"Send Your Name to Mars\" campaign, NASA\\'s Global Climate Change website and Solar System Interactive.', \"PIXL, an instrument on the end of the Perseverance rover's arm, will search for chemical fingerprints left by ancient microbes.\", \"The symbols, mottos, and small objects added to the agency's newest Mars rover serve a variety of purposes, from functional to decorative.\"]}\n",
      "{'title': ['Sensors on Mars 2020 Spacecraft Answer Long-Distance Call From Earth', 'MAVEN Maps Electric Currents around Mars that are Fundamental to Atmospheric Loss', \"NASA's Push to Save the Mars InSight Lander's Heat Probe\", \"NASA's Perseverance Rover 100 Days Out\", \"NASA's Ingenuity Mars Helicopter Recharges Its Batteries in Flight\", \"NASA's Mars 2020 Rover Closer to Getting Its Name\", \"NASA Wins 4 Webbys, 4 People's Voice Awards\", \"NASA's New Mars Rover Will Use X-Rays to Hunt Fossils\", \"5 Hidden Gems Are Riding Aboard NASA's Perseverance Rover\", 'NASA Establishes Board to Initially Review Mars Sample Return Plans'], 'preview': [\"Instruments tailored to collect data during the descent of NASA's next rover through the Red Planet's atmosphere have been checked in flight.\", 'Five years after NASA’s MAVEN spacecraft entered into orbit around Mars, data from the mission has led to the creation of a map of electric current systems in the Martian atmosphere.', \"The scoop on the end of the spacecraft's robotic arm will be used to 'pin' the mole against the wall of its hole.\", \"Mark your calendars: The agency's latest rover has only about 8,640,000 seconds to go before it touches down on the Red Planet, becoming history's next Mars car.\", 'Headed to the Red Planet with the Perseverance rover, the pioneering helicopter is powered up for the first time in interplanetary space as part of a systems check.', \"155 students from across the U.S. have been chosen as semifinalists in NASA's essay contest to name the Mars 2020 rover, and see it launch from Cape Canaveral this July.\", 'Winners include the JPL-managed \"Send Your Name to Mars\" campaign, NASA\\'s Global Climate Change website and Solar System Interactive.', \"PIXL, an instrument on the end of the Perseverance rover's arm, will search for chemical fingerprints left by ancient microbes.\", \"The symbols, mottos, and small objects added to the agency's newest Mars rover serve a variety of purposes, from functional to decorative.\", 'The board will assist with analysis of current plans and goals for one of the most difficult missions humanity has ever undertaken.']}\n",
      "{'title': ['Sensors on Mars 2020 Spacecraft Answer Long-Distance Call From Earth', 'MAVEN Maps Electric Currents around Mars that are Fundamental to Atmospheric Loss', \"NASA's Push to Save the Mars InSight Lander's Heat Probe\", \"NASA's Perseverance Rover 100 Days Out\", \"NASA's Ingenuity Mars Helicopter Recharges Its Batteries in Flight\", \"NASA's Mars 2020 Rover Closer to Getting Its Name\", \"NASA Wins 4 Webbys, 4 People's Voice Awards\", \"NASA's New Mars Rover Will Use X-Rays to Hunt Fossils\", \"5 Hidden Gems Are Riding Aboard NASA's Perseverance Rover\", 'NASA Establishes Board to Initially Review Mars Sample Return Plans', \"From JPL's Mailroom to Mars and Beyond\"], 'preview': [\"Instruments tailored to collect data during the descent of NASA's next rover through the Red Planet's atmosphere have been checked in flight.\", 'Five years after NASA’s MAVEN spacecraft entered into orbit around Mars, data from the mission has led to the creation of a map of electric current systems in the Martian atmosphere.', \"The scoop on the end of the spacecraft's robotic arm will be used to 'pin' the mole against the wall of its hole.\", \"Mark your calendars: The agency's latest rover has only about 8,640,000 seconds to go before it touches down on the Red Planet, becoming history's next Mars car.\", 'Headed to the Red Planet with the Perseverance rover, the pioneering helicopter is powered up for the first time in interplanetary space as part of a systems check.', \"155 students from across the U.S. have been chosen as semifinalists in NASA's essay contest to name the Mars 2020 rover, and see it launch from Cape Canaveral this July.\", 'Winners include the JPL-managed \"Send Your Name to Mars\" campaign, NASA\\'s Global Climate Change website and Solar System Interactive.', \"PIXL, an instrument on the end of the Perseverance rover's arm, will search for chemical fingerprints left by ancient microbes.\", \"The symbols, mottos, and small objects added to the agency's newest Mars rover serve a variety of purposes, from functional to decorative.\", 'The board will assist with analysis of current plans and goals for one of the most difficult missions humanity has ever undertaken.', 'Bill Allen has thrived as the mechanical systems design lead for three Mars rover missions, but he got his start as a teenager sorting letters for the NASA center.']}\n",
      "{'title': ['Sensors on Mars 2020 Spacecraft Answer Long-Distance Call From Earth', 'MAVEN Maps Electric Currents around Mars that are Fundamental to Atmospheric Loss', \"NASA's Push to Save the Mars InSight Lander's Heat Probe\", \"NASA's Perseverance Rover 100 Days Out\", \"NASA's Ingenuity Mars Helicopter Recharges Its Batteries in Flight\", \"NASA's Mars 2020 Rover Closer to Getting Its Name\", \"NASA Wins 4 Webbys, 4 People's Voice Awards\", \"NASA's New Mars Rover Will Use X-Rays to Hunt Fossils\", \"5 Hidden Gems Are Riding Aboard NASA's Perseverance Rover\", 'NASA Establishes Board to Initially Review Mars Sample Return Plans', \"From JPL's Mailroom to Mars and Beyond\", \"Air Deliveries Bring NASA's Perseverance Mars Rover Closer to Launch\"], 'preview': [\"Instruments tailored to collect data during the descent of NASA's next rover through the Red Planet's atmosphere have been checked in flight.\", 'Five years after NASA’s MAVEN spacecraft entered into orbit around Mars, data from the mission has led to the creation of a map of electric current systems in the Martian atmosphere.', \"The scoop on the end of the spacecraft's robotic arm will be used to 'pin' the mole against the wall of its hole.\", \"Mark your calendars: The agency's latest rover has only about 8,640,000 seconds to go before it touches down on the Red Planet, becoming history's next Mars car.\", 'Headed to the Red Planet with the Perseverance rover, the pioneering helicopter is powered up for the first time in interplanetary space as part of a systems check.', \"155 students from across the U.S. have been chosen as semifinalists in NASA's essay contest to name the Mars 2020 rover, and see it launch from Cape Canaveral this July.\", 'Winners include the JPL-managed \"Send Your Name to Mars\" campaign, NASA\\'s Global Climate Change website and Solar System Interactive.', \"PIXL, an instrument on the end of the Perseverance rover's arm, will search for chemical fingerprints left by ancient microbes.\", \"The symbols, mottos, and small objects added to the agency's newest Mars rover serve a variety of purposes, from functional to decorative.\", 'The board will assist with analysis of current plans and goals for one of the most difficult missions humanity has ever undertaken.', 'Bill Allen has thrived as the mechanical systems design lead for three Mars rover missions, but he got his start as a teenager sorting letters for the NASA center.', \"A NASA Wallops Flight Facility cargo plane transported more than two tons of equipment — including the rover's sample collection tubes — to Florida for this summer's liftoff.\"]}\n",
      "{'title': ['Sensors on Mars 2020 Spacecraft Answer Long-Distance Call From Earth', 'MAVEN Maps Electric Currents around Mars that are Fundamental to Atmospheric Loss', \"NASA's Push to Save the Mars InSight Lander's Heat Probe\", \"NASA's Perseverance Rover 100 Days Out\", \"NASA's Ingenuity Mars Helicopter Recharges Its Batteries in Flight\", \"NASA's Mars 2020 Rover Closer to Getting Its Name\", \"NASA Wins 4 Webbys, 4 People's Voice Awards\", \"NASA's New Mars Rover Will Use X-Rays to Hunt Fossils\", \"5 Hidden Gems Are Riding Aboard NASA's Perseverance Rover\", 'NASA Establishes Board to Initially Review Mars Sample Return Plans', \"From JPL's Mailroom to Mars and Beyond\", \"Air Deliveries Bring NASA's Perseverance Mars Rover Closer to Launch\", \"NASA's Mars Reconnaissance Orbiter Undergoes Memory Update\"], 'preview': [\"Instruments tailored to collect data during the descent of NASA's next rover through the Red Planet's atmosphere have been checked in flight.\", 'Five years after NASA’s MAVEN spacecraft entered into orbit around Mars, data from the mission has led to the creation of a map of electric current systems in the Martian atmosphere.', \"The scoop on the end of the spacecraft's robotic arm will be used to 'pin' the mole against the wall of its hole.\", \"Mark your calendars: The agency's latest rover has only about 8,640,000 seconds to go before it touches down on the Red Planet, becoming history's next Mars car.\", 'Headed to the Red Planet with the Perseverance rover, the pioneering helicopter is powered up for the first time in interplanetary space as part of a systems check.', \"155 students from across the U.S. have been chosen as semifinalists in NASA's essay contest to name the Mars 2020 rover, and see it launch from Cape Canaveral this July.\", 'Winners include the JPL-managed \"Send Your Name to Mars\" campaign, NASA\\'s Global Climate Change website and Solar System Interactive.', \"PIXL, an instrument on the end of the Perseverance rover's arm, will search for chemical fingerprints left by ancient microbes.\", \"The symbols, mottos, and small objects added to the agency's newest Mars rover serve a variety of purposes, from functional to decorative.\", 'The board will assist with analysis of current plans and goals for one of the most difficult missions humanity has ever undertaken.', 'Bill Allen has thrived as the mechanical systems design lead for three Mars rover missions, but he got his start as a teenager sorting letters for the NASA center.', \"A NASA Wallops Flight Facility cargo plane transported more than two tons of equipment — including the rover's sample collection tubes — to Florida for this summer's liftoff.\", 'Other orbiters will continue relaying data from Mars surface missions for a two-week period.']}\n",
      "{'title': ['Sensors on Mars 2020 Spacecraft Answer Long-Distance Call From Earth', 'MAVEN Maps Electric Currents around Mars that are Fundamental to Atmospheric Loss', \"NASA's Push to Save the Mars InSight Lander's Heat Probe\", \"NASA's Perseverance Rover 100 Days Out\", \"NASA's Ingenuity Mars Helicopter Recharges Its Batteries in Flight\", \"NASA's Mars 2020 Rover Closer to Getting Its Name\", \"NASA Wins 4 Webbys, 4 People's Voice Awards\", \"NASA's New Mars Rover Will Use X-Rays to Hunt Fossils\", \"5 Hidden Gems Are Riding Aboard NASA's Perseverance Rover\", 'NASA Establishes Board to Initially Review Mars Sample Return Plans', \"From JPL's Mailroom to Mars and Beyond\", \"Air Deliveries Bring NASA's Perseverance Mars Rover Closer to Launch\", \"NASA's Mars Reconnaissance Orbiter Undergoes Memory Update\", \"The Extraordinary Sample-Gathering System of NASA's Perseverance Mars Rover\"], 'preview': [\"Instruments tailored to collect data during the descent of NASA's next rover through the Red Planet's atmosphere have been checked in flight.\", 'Five years after NASA’s MAVEN spacecraft entered into orbit around Mars, data from the mission has led to the creation of a map of electric current systems in the Martian atmosphere.', \"The scoop on the end of the spacecraft's robotic arm will be used to 'pin' the mole against the wall of its hole.\", \"Mark your calendars: The agency's latest rover has only about 8,640,000 seconds to go before it touches down on the Red Planet, becoming history's next Mars car.\", 'Headed to the Red Planet with the Perseverance rover, the pioneering helicopter is powered up for the first time in interplanetary space as part of a systems check.', \"155 students from across the U.S. have been chosen as semifinalists in NASA's essay contest to name the Mars 2020 rover, and see it launch from Cape Canaveral this July.\", 'Winners include the JPL-managed \"Send Your Name to Mars\" campaign, NASA\\'s Global Climate Change website and Solar System Interactive.', \"PIXL, an instrument on the end of the Perseverance rover's arm, will search for chemical fingerprints left by ancient microbes.\", \"The symbols, mottos, and small objects added to the agency's newest Mars rover serve a variety of purposes, from functional to decorative.\", 'The board will assist with analysis of current plans and goals for one of the most difficult missions humanity has ever undertaken.', 'Bill Allen has thrived as the mechanical systems design lead for three Mars rover missions, but he got his start as a teenager sorting letters for the NASA center.', \"A NASA Wallops Flight Facility cargo plane transported more than two tons of equipment — including the rover's sample collection tubes — to Florida for this summer's liftoff.\", 'Other orbiters will continue relaying data from Mars surface missions for a two-week period.', 'Two astronauts collected Moon rocks on Apollo 11. It will take three robotic systems working together to gather up the first Mars rock samples for return to Earth.']}\n",
      "{'title': ['Sensors on Mars 2020 Spacecraft Answer Long-Distance Call From Earth', 'MAVEN Maps Electric Currents around Mars that are Fundamental to Atmospheric Loss', \"NASA's Push to Save the Mars InSight Lander's Heat Probe\", \"NASA's Perseverance Rover 100 Days Out\", \"NASA's Ingenuity Mars Helicopter Recharges Its Batteries in Flight\", \"NASA's Mars 2020 Rover Closer to Getting Its Name\", \"NASA Wins 4 Webbys, 4 People's Voice Awards\", \"NASA's New Mars Rover Will Use X-Rays to Hunt Fossils\", \"5 Hidden Gems Are Riding Aboard NASA's Perseverance Rover\", 'NASA Establishes Board to Initially Review Mars Sample Return Plans', \"From JPL's Mailroom to Mars and Beyond\", \"Air Deliveries Bring NASA's Perseverance Mars Rover Closer to Launch\", \"NASA's Mars Reconnaissance Orbiter Undergoes Memory Update\", \"The Extraordinary Sample-Gathering System of NASA's Perseverance Mars Rover\", \"NASA's Perseverance Rover Bringing 3D-Printed Metal Parts to Mars\"], 'preview': [\"Instruments tailored to collect data during the descent of NASA's next rover through the Red Planet's atmosphere have been checked in flight.\", 'Five years after NASA’s MAVEN spacecraft entered into orbit around Mars, data from the mission has led to the creation of a map of electric current systems in the Martian atmosphere.', \"The scoop on the end of the spacecraft's robotic arm will be used to 'pin' the mole against the wall of its hole.\", \"Mark your calendars: The agency's latest rover has only about 8,640,000 seconds to go before it touches down on the Red Planet, becoming history's next Mars car.\", 'Headed to the Red Planet with the Perseverance rover, the pioneering helicopter is powered up for the first time in interplanetary space as part of a systems check.', \"155 students from across the U.S. have been chosen as semifinalists in NASA's essay contest to name the Mars 2020 rover, and see it launch from Cape Canaveral this July.\", 'Winners include the JPL-managed \"Send Your Name to Mars\" campaign, NASA\\'s Global Climate Change website and Solar System Interactive.', \"PIXL, an instrument on the end of the Perseverance rover's arm, will search for chemical fingerprints left by ancient microbes.\", \"The symbols, mottos, and small objects added to the agency's newest Mars rover serve a variety of purposes, from functional to decorative.\", 'The board will assist with analysis of current plans and goals for one of the most difficult missions humanity has ever undertaken.', 'Bill Allen has thrived as the mechanical systems design lead for three Mars rover missions, but he got his start as a teenager sorting letters for the NASA center.', \"A NASA Wallops Flight Facility cargo plane transported more than two tons of equipment — including the rover's sample collection tubes — to Florida for this summer's liftoff.\", 'Other orbiters will continue relaying data from Mars surface missions for a two-week period.', 'Two astronauts collected Moon rocks on Apollo 11. It will take three robotic systems working together to gather up the first Mars rock samples for return to Earth.', \"For hobbyists and makers, 3D printing expands creative possibilities; for specialized engineers, it's also key to next-generation spacecraft design.\"]}\n"
     ]
    }
   ],
   "source": [
    "title_list = []\n",
    "news_p_list = []\n",
    "dict = {'title': [],'preview': []}\n",
    "for slide in slide_elem:\n",
    "    #Iterate through slide_elem list to get title element and title texts\n",
    "    title_elem = slide.find('div', class_='content_title')\n",
    "    title = title_elem.get_text()\n",
    "    title_list.append(title)\n",
    "    #Store title in a dictionary\n",
    "    dict['title'].append(title)\n",
    "    #Iterate through slide_elem list to find the summary text\n",
    "    news_p = slide.find('div', class_='article_teaser_body').text\n",
    "    news_p_list.append(news_p)\n",
    "    #Store preview in a dictionary\n",
    "    dict['preview'].append(news_p)\n",
    "    print(dict)"
   ]
  },
  {
   "cell_type": "code",
   "execution_count": 81,
   "id": "5eef7344",
   "metadata": {},
   "outputs": [
    {
     "data": {
      "text/plain": [
       "[{'title': 'Sensors on Mars 2020 Spacecraft Answer Long-Distance Call From Earth',\n",
       "  'preview': \"Instruments tailored to collect data during the descent of NASA's next rover through the Red Planet's atmosphere have been checked in flight.\"},\n",
       " {'title': 'MAVEN Maps Electric Currents around Mars that are Fundamental to Atmospheric Loss',\n",
       "  'preview': 'Five years after NASA’s MAVEN spacecraft entered into orbit around Mars, data from the mission has led to the creation of a map of electric current systems in the Martian atmosphere.'},\n",
       " {'title': \"NASA's Push to Save the Mars InSight Lander's Heat Probe\",\n",
       "  'preview': \"The scoop on the end of the spacecraft's robotic arm will be used to 'pin' the mole against the wall of its hole.\"},\n",
       " {'title': \"NASA's Perseverance Rover 100 Days Out\",\n",
       "  'preview': \"Mark your calendars: The agency's latest rover has only about 8,640,000 seconds to go before it touches down on the Red Planet, becoming history's next Mars car.\"},\n",
       " {'title': \"NASA's Ingenuity Mars Helicopter Recharges Its Batteries in Flight\",\n",
       "  'preview': 'Headed to the Red Planet with the Perseverance rover, the pioneering helicopter is powered up for the first time in interplanetary space as part of a systems check.'},\n",
       " {'title': \"NASA's Mars 2020 Rover Closer to Getting Its Name\",\n",
       "  'preview': \"155 students from across the U.S. have been chosen as semifinalists in NASA's essay contest to name the Mars 2020 rover, and see it launch from Cape Canaveral this July.\"},\n",
       " {'title': \"NASA Wins 4 Webbys, 4 People's Voice Awards\",\n",
       "  'preview': 'Winners include the JPL-managed \"Send Your Name to Mars\" campaign, NASA\\'s Global Climate Change website and Solar System Interactive.'},\n",
       " {'title': \"NASA's New Mars Rover Will Use X-Rays to Hunt Fossils\",\n",
       "  'preview': \"PIXL, an instrument on the end of the Perseverance rover's arm, will search for chemical fingerprints left by ancient microbes.\"},\n",
       " {'title': \"5 Hidden Gems Are Riding Aboard NASA's Perseverance Rover\",\n",
       "  'preview': \"The symbols, mottos, and small objects added to the agency's newest Mars rover serve a variety of purposes, from functional to decorative.\"},\n",
       " {'title': 'NASA Establishes Board to Initially Review Mars Sample Return Plans',\n",
       "  'preview': 'The board will assist with analysis of current plans and goals for one of the most difficult missions humanity has ever undertaken.'},\n",
       " {'title': \"From JPL's Mailroom to Mars and Beyond\",\n",
       "  'preview': 'Bill Allen has thrived as the mechanical systems design lead for three Mars rover missions, but he got his start as a teenager sorting letters for the NASA center.'},\n",
       " {'title': \"Air Deliveries Bring NASA's Perseverance Mars Rover Closer to Launch\",\n",
       "  'preview': \"A NASA Wallops Flight Facility cargo plane transported more than two tons of equipment — including the rover's sample collection tubes — to Florida for this summer's liftoff.\"},\n",
       " {'title': \"NASA's Mars Reconnaissance Orbiter Undergoes Memory Update\",\n",
       "  'preview': 'Other orbiters will continue relaying data from Mars surface missions for a two-week period.'},\n",
       " {'title': \"The Extraordinary Sample-Gathering System of NASA's Perseverance Mars Rover\",\n",
       "  'preview': 'Two astronauts collected Moon rocks on Apollo 11. It will take three robotic systems working together to gather up the first Mars rock samples for return to Earth.'},\n",
       " {'title': \"NASA's Perseverance Rover Bringing 3D-Printed Metal Parts to Mars\",\n",
       "  'preview': \"For hobbyists and makers, 3D printing expands creative possibilities; for specialized engineers, it's also key to next-generation spacecraft design.\"}]"
      ]
     },
     "execution_count": 81,
     "metadata": {},
     "output_type": "execute_result"
    }
   ],
   "source": [
    "#store the scraped data in a list of dictionaries\n",
    "list = pd.DataFrame(dict).to_dict(orient=\"records\")\n",
    "list"
   ]
  },
  {
   "cell_type": "code",
   "execution_count": 82,
   "id": "b2b58dbb",
   "metadata": {},
   "outputs": [],
   "source": [
    "browser.quit()"
   ]
  }
 ],
 "metadata": {
  "kernelspec": {
   "display_name": "PythonData",
   "language": "python",
   "name": "pythondata"
  },
  "language_info": {
   "codemirror_mode": {
    "name": "ipython",
    "version": 3
   },
   "file_extension": ".py",
   "mimetype": "text/x-python",
   "name": "python",
   "nbconvert_exporter": "python",
   "pygments_lexer": "ipython3",
   "version": "3.7.13"
  }
 },
 "nbformat": 4,
 "nbformat_minor": 5
}
