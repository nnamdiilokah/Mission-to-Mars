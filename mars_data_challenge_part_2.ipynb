{
 "cells": [
  {
   "cell_type": "code",
   "execution_count": 18,
   "id": "011204ed",
   "metadata": {},
   "outputs": [],
   "source": [
    "#import dependencies\n",
    "import pandas as pd\n",
    "import matplotlib as plt"
   ]
  },
  {
   "cell_type": "code",
   "execution_count": 12,
   "id": "b07b79d8",
   "metadata": {},
   "outputs": [
    {
     "data": {
      "text/plain": [
       "[        id terrestrial_date   sol   ls  month  min_temp  pressure\n",
       " 0        2       2012-08-16    10  155      6     -75.0     739.0\n",
       " 1       13       2012-08-17    11  156      6     -76.0     740.0\n",
       " 2       24       2012-08-18    12  156      6     -76.0     741.0\n",
       " 3       35       2012-08-19    13  157      6     -74.0     732.0\n",
       " 4       46       2012-08-20    14  157      6     -74.0     740.0\n",
       " ...    ...              ...   ...  ...    ...       ...       ...\n",
       " 1862  1889       2018-02-23  1973  133      5     -78.0     730.0\n",
       " 1863  1892       2018-02-24  1974  134      5     -77.0     729.0\n",
       " 1864  1894       2018-02-25  1975  134      5     -76.0     729.0\n",
       " 1865  1893       2018-02-26  1976  135      5     -77.0     728.0\n",
       " 1866  1895       2018-02-27  1977  135      5     -77.0     727.0\n",
       " \n",
       " [1867 rows x 7 columns]]"
      ]
     },
     "execution_count": 12,
     "metadata": {},
     "output_type": "execute_result"
    }
   ],
   "source": [
    "# Visit the Mars Temperature data site and scrape data \n",
    "df = pd.read_html('https://data-class-mars-challenge.s3.amazonaws.com/Mars/index.html')"
   ]
  },
  {
   "cell_type": "code",
   "execution_count": 17,
   "id": "2a572560",
   "metadata": {},
   "outputs": [
    {
     "data": {
      "text/html": [
       "<div>\n",
       "<style scoped>\n",
       "    .dataframe tbody tr th:only-of-type {\n",
       "        vertical-align: middle;\n",
       "    }\n",
       "\n",
       "    .dataframe tbody tr th {\n",
       "        vertical-align: top;\n",
       "    }\n",
       "\n",
       "    .dataframe thead th {\n",
       "        text-align: right;\n",
       "    }\n",
       "</style>\n",
       "<table border=\"1\" class=\"dataframe\">\n",
       "  <thead>\n",
       "    <tr style=\"text-align: right;\">\n",
       "      <th></th>\n",
       "      <th>id</th>\n",
       "      <th>terrestrial_date</th>\n",
       "      <th>sol</th>\n",
       "      <th>ls</th>\n",
       "      <th>month</th>\n",
       "      <th>min_temp</th>\n",
       "      <th>pressure</th>\n",
       "    </tr>\n",
       "  </thead>\n",
       "  <tbody>\n",
       "    <tr>\n",
       "      <th>0</th>\n",
       "      <td>2</td>\n",
       "      <td>2012-08-16</td>\n",
       "      <td>10</td>\n",
       "      <td>155</td>\n",
       "      <td>6</td>\n",
       "      <td>-75.0</td>\n",
       "      <td>739.0</td>\n",
       "    </tr>\n",
       "    <tr>\n",
       "      <th>1</th>\n",
       "      <td>13</td>\n",
       "      <td>2012-08-17</td>\n",
       "      <td>11</td>\n",
       "      <td>156</td>\n",
       "      <td>6</td>\n",
       "      <td>-76.0</td>\n",
       "      <td>740.0</td>\n",
       "    </tr>\n",
       "    <tr>\n",
       "      <th>2</th>\n",
       "      <td>24</td>\n",
       "      <td>2012-08-18</td>\n",
       "      <td>12</td>\n",
       "      <td>156</td>\n",
       "      <td>6</td>\n",
       "      <td>-76.0</td>\n",
       "      <td>741.0</td>\n",
       "    </tr>\n",
       "    <tr>\n",
       "      <th>3</th>\n",
       "      <td>35</td>\n",
       "      <td>2012-08-19</td>\n",
       "      <td>13</td>\n",
       "      <td>157</td>\n",
       "      <td>6</td>\n",
       "      <td>-74.0</td>\n",
       "      <td>732.0</td>\n",
       "    </tr>\n",
       "    <tr>\n",
       "      <th>4</th>\n",
       "      <td>46</td>\n",
       "      <td>2012-08-20</td>\n",
       "      <td>14</td>\n",
       "      <td>157</td>\n",
       "      <td>6</td>\n",
       "      <td>-74.0</td>\n",
       "      <td>740.0</td>\n",
       "    </tr>\n",
       "    <tr>\n",
       "      <th>...</th>\n",
       "      <td>...</td>\n",
       "      <td>...</td>\n",
       "      <td>...</td>\n",
       "      <td>...</td>\n",
       "      <td>...</td>\n",
       "      <td>...</td>\n",
       "      <td>...</td>\n",
       "    </tr>\n",
       "    <tr>\n",
       "      <th>1862</th>\n",
       "      <td>1889</td>\n",
       "      <td>2018-02-23</td>\n",
       "      <td>1973</td>\n",
       "      <td>133</td>\n",
       "      <td>5</td>\n",
       "      <td>-78.0</td>\n",
       "      <td>730.0</td>\n",
       "    </tr>\n",
       "    <tr>\n",
       "      <th>1863</th>\n",
       "      <td>1892</td>\n",
       "      <td>2018-02-24</td>\n",
       "      <td>1974</td>\n",
       "      <td>134</td>\n",
       "      <td>5</td>\n",
       "      <td>-77.0</td>\n",
       "      <td>729.0</td>\n",
       "    </tr>\n",
       "    <tr>\n",
       "      <th>1864</th>\n",
       "      <td>1894</td>\n",
       "      <td>2018-02-25</td>\n",
       "      <td>1975</td>\n",
       "      <td>134</td>\n",
       "      <td>5</td>\n",
       "      <td>-76.0</td>\n",
       "      <td>729.0</td>\n",
       "    </tr>\n",
       "    <tr>\n",
       "      <th>1865</th>\n",
       "      <td>1893</td>\n",
       "      <td>2018-02-26</td>\n",
       "      <td>1976</td>\n",
       "      <td>135</td>\n",
       "      <td>5</td>\n",
       "      <td>-77.0</td>\n",
       "      <td>728.0</td>\n",
       "    </tr>\n",
       "    <tr>\n",
       "      <th>1866</th>\n",
       "      <td>1895</td>\n",
       "      <td>2018-02-27</td>\n",
       "      <td>1977</td>\n",
       "      <td>135</td>\n",
       "      <td>5</td>\n",
       "      <td>-77.0</td>\n",
       "      <td>727.0</td>\n",
       "    </tr>\n",
       "  </tbody>\n",
       "</table>\n",
       "<p>1867 rows × 7 columns</p>\n",
       "</div>"
      ],
      "text/plain": [
       "        id terrestrial_date   sol   ls  month  min_temp  pressure\n",
       "0        2       2012-08-16    10  155      6     -75.0     739.0\n",
       "1       13       2012-08-17    11  156      6     -76.0     740.0\n",
       "2       24       2012-08-18    12  156      6     -76.0     741.0\n",
       "3       35       2012-08-19    13  157      6     -74.0     732.0\n",
       "4       46       2012-08-20    14  157      6     -74.0     740.0\n",
       "...    ...              ...   ...  ...    ...       ...       ...\n",
       "1862  1889       2018-02-23  1973  133      5     -78.0     730.0\n",
       "1863  1892       2018-02-24  1974  134      5     -77.0     729.0\n",
       "1864  1894       2018-02-25  1975  134      5     -76.0     729.0\n",
       "1865  1893       2018-02-26  1976  135      5     -77.0     728.0\n",
       "1866  1895       2018-02-27  1977  135      5     -77.0     727.0\n",
       "\n",
       "[1867 rows x 7 columns]"
      ]
     },
     "execution_count": 17,
     "metadata": {},
     "output_type": "execute_result"
    }
   ],
   "source": [
    "#Assemble the scraped data into a Pandas DataFrame\n",
    "mars_weather_df = df[0]\n",
    "mars_weather_df"
   ]
  },
  {
   "cell_type": "code",
   "execution_count": 15,
   "id": "68f55311",
   "metadata": {},
   "outputs": [
    {
     "data": {
      "text/plain": [
       "id                    int64\n",
       "terrestrial_date     object\n",
       "sol                   int64\n",
       "ls                    int64\n",
       "month                 int64\n",
       "min_temp            float64\n",
       "pressure            float64\n",
       "dtype: object"
      ]
     },
     "execution_count": 15,
     "metadata": {},
     "output_type": "execute_result"
    }
   ],
   "source": [
    "mars_weather_df.dtypes"
   ]
  },
  {
   "cell_type": "code",
   "execution_count": null,
   "id": "a06733d7",
   "metadata": {},
   "outputs": [],
   "source": []
  }
 ],
 "metadata": {
  "kernelspec": {
   "display_name": "PythonData",
   "language": "python",
   "name": "pythondata"
  },
  "language_info": {
   "codemirror_mode": {
    "name": "ipython",
    "version": 3
   },
   "file_extension": ".py",
   "mimetype": "text/x-python",
   "name": "python",
   "nbconvert_exporter": "python",
   "pygments_lexer": "ipython3",
   "version": "3.7.13"
  }
 },
 "nbformat": 4,
 "nbformat_minor": 5
}
